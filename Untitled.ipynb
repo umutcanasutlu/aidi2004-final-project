{
 "cells": [
  {
   "cell_type": "code",
   "execution_count": 38,
   "metadata": {},
   "outputs": [
    {
     "name": "stdout",
     "output_type": "stream",
     "text": [
      "age          43.0\n",
      "sex           0.0\n",
      "cp            2.0\n",
      "trestbps    122.0\n",
      "chol        213.0\n",
      "fbs           0.0\n",
      "restecg       1.0\n",
      "thalach     165.0\n",
      "exang         0.0\n",
      "oldpeak       0.2\n",
      "slope         1.0\n",
      "ca            0.0\n",
      "thal          2.0\n",
      "Name: 74, dtype: float64\n",
      "confusion matrix\n",
      "[[24  3]\n",
      " [ 4 30]]\n",
      "-------------------------------------------\n",
      "Accuracy of K-NeighborsClassifier: 88.52459016393442 \n",
      "\n",
      "-------------------------------------------\n",
      "              precision    recall  f1-score   support\n",
      "\n",
      "           0       0.86      0.89      0.87        27\n",
      "           1       0.91      0.88      0.90        34\n",
      "\n",
      "    accuracy                           0.89        61\n",
      "   macro avg       0.88      0.89      0.88        61\n",
      "weighted avg       0.89      0.89      0.89        61\n",
      "\n"
     ]
    }
   ],
   "source": [
    "from sklearn.model_selection import train_test_split\n",
    "from sklearn.metrics import classification_report\n",
    "from sklearn.metrics import confusion_matrix\n",
    "from sklearn.preprocessing import StandardScaler\n",
    "from sklearn.neighbors import KNeighborsClassifier\n",
    "from sklearn.metrics import accuracy_score\n",
    "\n",
    "import numpy as np\n",
    "import pandas as pd\n",
    "\n",
    "#ML Part\n",
    "df = pd.read_csv('heart.csv')\n",
    "y = df[\"target\"]\n",
    "X = df.drop('target',axis=1)\n",
    "X_train, X_test, y_train, y_test = train_test_split(X, y, test_size=0.20, random_state = 0)\n",
    "scaler = StandardScaler()\n",
    "input_vitals = X_train.iloc[0]\n",
    "print(input_vitals)\n",
    "X_train = scaler.fit_transform(X_train)\n",
    "X_test = scaler.transform(X_test)\n",
    "model_knn = 'K-NeighborsClassifier'\n",
    "knn = KNeighborsClassifier(n_neighbors=10)\n",
    "knn.fit(X_train, y_train)\n",
    "knn_predicted = knn.predict(X_test)\n",
    "knn_conf_matrix = confusion_matrix(y_test, knn_predicted)\n",
    "knn_acc_score = accuracy_score(y_test, knn_predicted)\n",
    "print(\"confusion matrix\")\n",
    "print(knn_conf_matrix)\n",
    "print(\"-------------------------------------------\")\n",
    "print(\"Accuracy of K-NeighborsClassifier:\",knn_acc_score*100,'\\n')\n",
    "print(\"-------------------------------------------\")\n",
    "print(classification_report(y_test,knn_predicted))"
   ]
  },
  {
   "cell_type": "code",
   "execution_count": 39,
   "metadata": {},
   "outputs": [
    {
     "ename": "AttributeError",
     "evalue": "'numpy.ndarray' object has no attribute 'iloc'",
     "output_type": "error",
     "traceback": [
      "\u001b[1;31m---------------------------------------------------------------------------\u001b[0m",
      "\u001b[1;31mAttributeError\u001b[0m                            Traceback (most recent call last)",
      "\u001b[1;32m<ipython-input-39-828cd6015ad5>\u001b[0m in \u001b[0;36m<module>\u001b[1;34m\u001b[0m\n\u001b[1;32m----> 1\u001b[1;33m \u001b[0minput_vitals\u001b[0m \u001b[1;33m=\u001b[0m \u001b[0mX_train\u001b[0m\u001b[1;33m.\u001b[0m\u001b[0miloc\u001b[0m\u001b[1;33m[\u001b[0m\u001b[1;36m0\u001b[0m\u001b[1;33m]\u001b[0m\u001b[1;33m\u001b[0m\u001b[1;33m\u001b[0m\u001b[0m\n\u001b[0m",
      "\u001b[1;31mAttributeError\u001b[0m: 'numpy.ndarray' object has no attribute 'iloc'"
     ]
    }
   ],
   "source": [
    "input_vitals = X_train.iloc[0]"
   ]
  },
  {
   "cell_type": "code",
   "execution_count": 40,
   "metadata": {},
   "outputs": [
    {
     "name": "stdout",
     "output_type": "stream",
     "text": [
      "age          40.0\n",
      "sex           0.0\n",
      "cp            0.0\n",
      "trestbps    135.0\n",
      "chol        250.0\n",
      "fbs           0.0\n",
      "restecg       0.0\n",
      "thalach     160.0\n",
      "exang         0.0\n",
      "oldpeak       0.0\n",
      "slope         0.0\n",
      "ca            0.0\n",
      "thal          2.0\n",
      "Name: 74, dtype: float64\n"
     ]
    }
   ],
   "source": [
    "input_vitals[0] = 40\n",
    "input_vitals[1] = 0\n",
    "input_vitals[2] = 0\n",
    "input_vitals[3] = 135\n",
    "input_vitals[4] = 250\n",
    "input_vitals[5] = 0\n",
    "input_vitals[6] = 0\n",
    "input_vitals[7] = 160\n",
    "input_vitals[8] = 0\n",
    "input_vitals[9] = 0\n",
    "input_vitals[10] = 0\n",
    "input_vitals[11] = 0\n",
    "input_vitals[12] = 2\n",
    "print(input_vitals)\n"
   ]
  },
  {
   "cell_type": "code",
   "execution_count": 41,
   "metadata": {},
   "outputs": [],
   "source": [
    "myinput = {'age': 40, 'sex': 0, 'cp':0 , 'trestbps':135, 'chol':250, 'fbs':0, 'restecg':0, 'thalach':160, \n",
    "           'exang': 0, 'oldpeak': 0, 'slope':0, 'ca':0, 'thal':2}"
   ]
  },
  {
   "cell_type": "code",
   "execution_count": 42,
   "metadata": {},
   "outputs": [
    {
     "name": "stdout",
     "output_type": "stream",
     "text": [
      "[[-1.66383254 -1.43641607 -0.92274852  0.18702011  0.06071195 -0.41803981\n",
      "  -0.97936664  0.44000983 -0.70929937 -0.89249331 -2.27916533 -0.70710678\n",
      "  -0.46472917]]\n",
      "[1]\n"
     ]
    }
   ],
   "source": [
    "final_input = scaler.transform(input_vitals.values.reshape(1,-1))\n",
    "print(final_input)\n",
    "#THE MODEL WILL DO THE PREDICTION HERE\n",
    "prediction = knn.predict(final_input)\n",
    "\n",
    "print(prediction)"
   ]
  },
  {
   "cell_type": "code",
   "execution_count": 43,
   "metadata": {},
   "outputs": [
    {
     "data": {
      "text/plain": [
       "dict_values([40, 0, 0, 135, 250, 0, 0, 160, 0, 0, 0, 0, 2])"
      ]
     },
     "execution_count": 43,
     "metadata": {},
     "output_type": "execute_result"
    }
   ],
   "source": [
    "myinput.values()"
   ]
  },
  {
   "cell_type": "code",
   "execution_count": 47,
   "metadata": {},
   "outputs": [
    {
     "name": "stdout",
     "output_type": "stream",
     "text": [
      "[[-1.66383254 -1.43641607 -0.92274852  0.18702011  0.06071195 -0.41803981\n",
      "  -0.97936664  0.44000983 -0.70929937 -0.89249331 -2.27916533 -0.70710678\n",
      "  -0.46472917]]\n",
      "[1]\n"
     ]
    }
   ],
   "source": [
    "#final_input = scaler.transform(np.array(list(myinput.values())).astype(float).reshape(1, -1))\n",
    "print(final_input)\n",
    "#THE MODEL WILL DO THE PREDICTION HERE\n",
    "prediction = knn.predict(np.array(list(myinput.values())).astype(float).reshape(1, -1))\n",
    "\n",
    "print(prediction)"
   ]
  },
  {
   "cell_type": "code",
   "execution_count": null,
   "metadata": {},
   "outputs": [],
   "source": []
  },
  {
   "cell_type": "code",
   "execution_count": null,
   "metadata": {},
   "outputs": [],
   "source": []
  },
  {
   "cell_type": "code",
   "execution_count": null,
   "metadata": {},
   "outputs": [],
   "source": []
  }
 ],
 "metadata": {
  "kernelspec": {
   "display_name": "Python 3",
   "language": "python",
   "name": "python3"
  },
  "language_info": {
   "codemirror_mode": {
    "name": "ipython",
    "version": 3
   },
   "file_extension": ".py",
   "mimetype": "text/x-python",
   "name": "python",
   "nbconvert_exporter": "python",
   "pygments_lexer": "ipython3",
   "version": "3.8.3"
  }
 },
 "nbformat": 4,
 "nbformat_minor": 4
}
